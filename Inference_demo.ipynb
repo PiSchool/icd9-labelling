{
 "cells": [
  {
   "cell_type": "code",
   "execution_count": 1,
   "metadata": {
    "collapsed": true
   },
   "outputs": [],
   "source": [
    "# THis is the inference script: All we need to run this is the trained model and the correct tokenizer. \n",
    "#Also some of oru custom funcitons. "
   ]
  },
  {
   "cell_type": "code",
   "execution_count": 1,
   "metadata": {},
   "outputs": [
    {
     "name": "stderr",
     "output_type": "stream",
     "text": [
      "/home/leander/anaconda3/envs/pytorch/lib/python3.6/site-packages/h5py/__init__.py:34: FutureWarning: Conversion of the second argument of issubdtype from `float` to `np.floating` is deprecated. In future, it will be treated as `np.float64 == np.dtype(float).type`.\n",
      "  from ._conv import register_converters as _register_converters\n"
     ]
    }
   ],
   "source": [
    "import pickle\n",
    "import numpy as np\n",
    "import tensorflow as tf\n",
    "from tensorflow import keras\n",
    "import pandas as pd"
   ]
  },
  {
   "cell_type": "code",
   "execution_count": 2,
   "metadata": {},
   "outputs": [],
   "source": [
    "from tensorflow.python.keras.models import load_model"
   ]
  },
  {
   "cell_type": "code",
   "execution_count": 3,
   "metadata": {},
   "outputs": [],
   "source": [
    "from Clean_function import clean_note\n",
    "#from tf_rec_write import load_to_memory\n",
    "from Keras_Layers import Loop_Projection,Multi_Attention,sum_dum"
   ]
  },
  {
   "cell_type": "code",
   "execution_count": 4,
   "metadata": {
    "collapsed": true
   },
   "outputs": [],
   "source": [
    "#Load text and label tokenizer be crefull to select the correct one!\n",
    "label_tokenizer = pickle.load(open('tokenizer/Label_Tokenizer.pkl', 'rb'))\n",
    "word_tokenizer = pickle.load(open('tokenizer/Text_Tokenizer.pkl', 'rb'))"
   ]
  },
  {
   "cell_type": "code",
   "execution_count": 5,
   "metadata": {
    "collapsed": true
   },
   "outputs": [],
   "source": [
    "#reverse the Label tokenizer to get the ICD codes from the integers\n",
    "reverse_label_tokenizer=dict(map(reversed, label_tokenizer.word_index.items()))"
   ]
  },
  {
   "cell_type": "code",
   "execution_count": 6,
   "metadata": {},
   "outputs": [],
   "source": [
    "#load the best model \n",
    "model = load_model('best_model.keras',custom_objects={'Loop_Projection':Loop_Projection,'Multi_Attention':Multi_Attention,'sum_dum':sum_dum})"
   ]
  },
  {
   "cell_type": "markdown",
   "metadata": {},
   "source": [
    "# Evaluating on Texts with Labels\n",
    "You can run the following two cells to get a random example from the dataset and compare the model prediction with the true labels."
   ]
  },
  {
   "cell_type": "code",
   "execution_count": 7,
   "metadata": {
    "collapsed": true
   },
   "outputs": [],
   "source": [
    "from mimic_data import load_dummy\n",
    "import random\n",
    "\n",
    "#get the data for an example evaluation. \n",
    "In_Text,labels=load_dummy()"
   ]
  },
  {
   "cell_type": "code",
   "execution_count": 8,
   "metadata": {
    "collapsed": true
   },
   "outputs": [],
   "source": [
    "#take a random text\n",
    "example=random.randint(0,len(In_Text))\n",
    "pred_text=In_Text[example]\n",
    "true_labels=labels[example]"
   ]
  },
  {
   "cell_type": "markdown",
   "metadata": {},
   "source": [
    "# Evaluating on a new Text\n",
    "You can type a new text for prediction here, for final prediction. "
   ]
  },
  {
   "cell_type": "code",
   "execution_count": 9,
   "metadata": {
    "collapsed": true
   },
   "outputs": [],
   "source": [
    "pred_text= '''DIMESSO CON DIASGNOSI di Anasarca. IRC 4 stadio in terapia conservativa (GFR 29 ml/min), nefropatia\n",
    "    tubulointerstiziale cronica, proteinuria nefrosica secondaria (probabile paraneoplastica) in terapia steroidea.\n",
    "    Infezione urinaria da Klebsiella Oxytoca ed Escherichia Coli. Cardiopatia sclerotica scompensata; FA permanente in\n",
    "    terapia con EBPM, portatore di protesi vascolare aortica per aneurisma dell aorta ascendente e bioprotesi valvolare\n",
    "    aortica. Diabete mellito insulino-trattato, BPCO severa.\n",
    "    Uropatia ostruttiva e verosimile neoplasia vescicale infiltrante, portatore di Foley a dimora.\n",
    "    Eritrodermia (Amoxicillina-Clavulanico?).Vasculopatia pluridistrettuale. Invalidamento motorio.'''"
   ]
  },
  {
   "cell_type": "code",
   "execution_count": 10,
   "metadata": {
    "collapsed": true
   },
   "outputs": [],
   "source": [
    "#clean the text, the input has to be in a list\n",
    "pred_text_clean=[clean_note(pred_text)]"
   ]
  },
  {
   "cell_type": "code",
   "execution_count": 11,
   "metadata": {
    "collapsed": true
   },
   "outputs": [],
   "source": [
    "#code it correctly with the tokenizer\n",
    "#important this has to be wrapped in a list again\n",
    "In_code=[word_tokenizer.texts_to_sequences(pred_text_clean)]"
   ]
  },
  {
   "cell_type": "code",
   "execution_count": 17,
   "metadata": {},
   "outputs": [],
   "source": [
    "#run a predict of the model \n",
    "p=model.predict(In_code)[0]"
   ]
  },
  {
   "cell_type": "code",
   "execution_count": 25,
   "metadata": {},
   "outputs": [],
   "source": [
    "#get predictions larger than a threshhold. alternatively top n predictions\n",
    "#top n prediction function\n",
    "thresh=0.9\n",
    "pred_codes=np.where(p>thresh)[1]\n",
    "p_val=p[p>thresh]"
   ]
  },
  {
   "cell_type": "code",
   "execution_count": 26,
   "metadata": {
    "collapsed": true
   },
   "outputs": [],
   "source": [
    "#decode the predictions\n",
    "pred_codes_decode=[reverse_label_tokenizer[j] for j in pred_codes ]"
   ]
  },
  {
   "cell_type": "code",
   "execution_count": 27,
   "metadata": {},
   "outputs": [
    {
     "data": {
      "text/html": [
       "<div>\n",
       "<style>\n",
       "    .dataframe thead tr:only-child th {\n",
       "        text-align: right;\n",
       "    }\n",
       "\n",
       "    .dataframe thead th {\n",
       "        text-align: left;\n",
       "    }\n",
       "\n",
       "    .dataframe tbody tr th {\n",
       "        vertical-align: top;\n",
       "    }\n",
       "</style>\n",
       "<table border=\"1\" class=\"dataframe\">\n",
       "  <thead>\n",
       "    <tr style=\"text-align: right;\">\n",
       "      <th></th>\n",
       "      <th>0</th>\n",
       "      <th>1</th>\n",
       "    </tr>\n",
       "  </thead>\n",
       "  <tbody>\n",
       "    <tr>\n",
       "      <th>1</th>\n",
       "      <td>01171</td>\n",
       "      <td>0.99997485</td>\n",
       "    </tr>\n",
       "    <tr>\n",
       "      <th>2</th>\n",
       "      <td>01166</td>\n",
       "      <td>0.9999739</td>\n",
       "    </tr>\n",
       "    <tr>\n",
       "      <th>0</th>\n",
       "      <td>01170</td>\n",
       "      <td>0.999964</td>\n",
       "    </tr>\n",
       "  </tbody>\n",
       "</table>\n",
       "</div>"
      ],
      "text/plain": [
       "       0           1\n",
       "1  01171  0.99997485\n",
       "2  01166   0.9999739\n",
       "0  01170    0.999964"
      ]
     },
     "execution_count": 27,
     "metadata": {},
     "output_type": "execute_result"
    }
   ],
   "source": [
    "#predicted labels with confidence \n",
    "pd.DataFrame(np.transpose(np.vstack([pred_codes_decode,p_val]))).sort_values(by=1,ascending=False)"
   ]
  },
  {
   "cell_type": "code",
   "execution_count": null,
   "metadata": {
    "collapsed": true
   },
   "outputs": [],
   "source": []
  }
 ],
 "metadata": {
  "kernelspec": {
   "display_name": "Python (pytorchenv)",
   "language": "python",
   "name": "pytorch"
  },
  "language_info": {
   "codemirror_mode": {
    "name": "ipython",
    "version": 3
   },
   "file_extension": ".py",
   "mimetype": "text/x-python",
   "name": "python",
   "nbconvert_exporter": "python",
   "pygments_lexer": "ipython3",
   "version": "3.6.3"
  }
 },
 "nbformat": 4,
 "nbformat_minor": 2
}
